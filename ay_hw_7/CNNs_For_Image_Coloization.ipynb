{
 "cells": [
  {
   "cell_type": "markdown",
   "metadata": {},
   "source": [
    "Bo Yang (Aaron) USCID:7526922531"
   ]
  },
  {
   "cell_type": "markdown",
   "metadata": {},
   "source": [
    "### INF 552 HOMEWORK_7  Date: 12-01-2019"
   ]
  },
  {
   "cell_type": "markdown",
   "metadata": {},
   "source": [
    "# 1. (Deep) CNNs for Image Colorization\n",
    "\n",
    "## (a) This assignment uses a convolutional neural network for image colorization which turns a grayscale image to a colored image.5 By converting an image to grayscale, we loose color information, so converting a grayscale image back to a colored version is not an easy job. We will use the CIFAR-10 dataset. Downolad the dataset from http://www.cs.toronto.edu/~kriz/cifar-10-python.tar.gz."
   ]
  },
  {
   "cell_type": "code",
   "execution_count": 1,
   "metadata": {},
   "outputs": [
    {
     "name": "stderr",
     "output_type": "stream",
     "text": [
      "/usr/local/lib/python3.5/dist-packages/tensorflow/python/framework/dtypes.py:523: FutureWarning: Passing (type, 1) or '1type' as a synonym of type is deprecated; in a future version of numpy, it will be understood as (type, (1,)) / '(1,)type'.\n",
      "  _np_qint8 = np.dtype([(\"qint8\", np.int8, 1)])\n",
      "/usr/local/lib/python3.5/dist-packages/tensorflow/python/framework/dtypes.py:524: FutureWarning: Passing (type, 1) or '1type' as a synonym of type is deprecated; in a future version of numpy, it will be understood as (type, (1,)) / '(1,)type'.\n",
      "  _np_quint8 = np.dtype([(\"quint8\", np.uint8, 1)])\n",
      "/usr/local/lib/python3.5/dist-packages/tensorflow/python/framework/dtypes.py:525: FutureWarning: Passing (type, 1) or '1type' as a synonym of type is deprecated; in a future version of numpy, it will be understood as (type, (1,)) / '(1,)type'.\n",
      "  _np_qint16 = np.dtype([(\"qint16\", np.int16, 1)])\n",
      "/usr/local/lib/python3.5/dist-packages/tensorflow/python/framework/dtypes.py:526: FutureWarning: Passing (type, 1) or '1type' as a synonym of type is deprecated; in a future version of numpy, it will be understood as (type, (1,)) / '(1,)type'.\n",
      "  _np_quint16 = np.dtype([(\"quint16\", np.uint16, 1)])\n",
      "/usr/local/lib/python3.5/dist-packages/tensorflow/python/framework/dtypes.py:527: FutureWarning: Passing (type, 1) or '1type' as a synonym of type is deprecated; in a future version of numpy, it will be understood as (type, (1,)) / '(1,)type'.\n",
      "  _np_qint32 = np.dtype([(\"qint32\", np.int32, 1)])\n",
      "/usr/local/lib/python3.5/dist-packages/tensorflow/python/framework/dtypes.py:532: FutureWarning: Passing (type, 1) or '1type' as a synonym of type is deprecated; in a future version of numpy, it will be understood as (type, (1,)) / '(1,)type'.\n",
      "  np_resource = np.dtype([(\"resource\", np.ubyte, 1)])\n"
     ]
    },
    {
     "name": "stdout",
     "output_type": "stream",
     "text": [
      "sklearn's version is 0.21.3\n",
      "tensorflow's version is 2.0.0-alpha0\n",
      "tensorflow.python.keras.api._v2.keras's version is 2.2.4-tf\n"
     ]
    },
    {
     "name": "stderr",
     "output_type": "stream",
     "text": [
      "/usr/local/lib/python3.5/dist-packages/tensorboard/compat/tensorflow_stub/dtypes.py:541: FutureWarning: Passing (type, 1) or '1type' as a synonym of type is deprecated; in a future version of numpy, it will be understood as (type, (1,)) / '(1,)type'.\n",
      "  _np_qint8 = np.dtype([(\"qint8\", np.int8, 1)])\n",
      "/usr/local/lib/python3.5/dist-packages/tensorboard/compat/tensorflow_stub/dtypes.py:542: FutureWarning: Passing (type, 1) or '1type' as a synonym of type is deprecated; in a future version of numpy, it will be understood as (type, (1,)) / '(1,)type'.\n",
      "  _np_quint8 = np.dtype([(\"quint8\", np.uint8, 1)])\n",
      "/usr/local/lib/python3.5/dist-packages/tensorboard/compat/tensorflow_stub/dtypes.py:543: FutureWarning: Passing (type, 1) or '1type' as a synonym of type is deprecated; in a future version of numpy, it will be understood as (type, (1,)) / '(1,)type'.\n",
      "  _np_qint16 = np.dtype([(\"qint16\", np.int16, 1)])\n",
      "/usr/local/lib/python3.5/dist-packages/tensorboard/compat/tensorflow_stub/dtypes.py:544: FutureWarning: Passing (type, 1) or '1type' as a synonym of type is deprecated; in a future version of numpy, it will be understood as (type, (1,)) / '(1,)type'.\n",
      "  _np_quint16 = np.dtype([(\"quint16\", np.uint16, 1)])\n",
      "/usr/local/lib/python3.5/dist-packages/tensorboard/compat/tensorflow_stub/dtypes.py:545: FutureWarning: Passing (type, 1) or '1type' as a synonym of type is deprecated; in a future version of numpy, it will be understood as (type, (1,)) / '(1,)type'.\n",
      "  _np_qint32 = np.dtype([(\"qint32\", np.int32, 1)])\n",
      "/usr/local/lib/python3.5/dist-packages/tensorboard/compat/tensorflow_stub/dtypes.py:550: FutureWarning: Passing (type, 1) or '1type' as a synonym of type is deprecated; in a future version of numpy, it will be understood as (type, (1,)) / '(1,)type'.\n",
      "  np_resource = np.dtype([(\"resource\", np.ubyte, 1)])\n"
     ]
    }
   ],
   "source": [
    "import matplotlib.pyplot as plt\n",
    "import numpy as np\n",
    "import pandas as pd\n",
    "import sklearn\n",
    "import tensorflow as tf\n",
    "from tensorflow import keras\n",
    "import os\n",
    "\n",
    "for module in sklearn, tf, keras:\n",
    "    print(\"{}'s version is {}\".format(module.__name__, module.__version__))"
   ]
  },
  {
   "cell_type": "markdown",
   "metadata": {},
   "source": [
    "## (b) From the train and test dataset, extract the class birds. We will focus on this class, which has 6000 members."
   ]
  },
  {
   "cell_type": "code",
   "execution_count": 2,
   "metadata": {},
   "outputs": [],
   "source": [
    "cifar10 = keras.datasets.cifar10\n",
    "\n",
    "# load the data  from buildin dataset\n",
    "# Downloading data from https://www.cs.toronto.edu/~kriz/cifar-10-python.tar.gz\n",
    "(X_train_all, y_train_all), (X_test, y_test) = cifar10.load_data()"
   ]
  },
  {
   "cell_type": "markdown",
   "metadata": {},
   "source": [
    "- from https://www.cs.toronto.edu/~kriz/cifar.html, I got to know the class of birds is 2. so I extract data points when y == 2"
   ]
  },
  {
   "cell_type": "code",
   "execution_count": 3,
   "metadata": {},
   "outputs": [
    {
     "name": "stdout",
     "output_type": "stream",
     "text": [
      "-----------------Before Extraction----------------\n",
      "Training Set:  (50000, 32, 32, 3) (50000, 1)\n",
      "Testing Set:  (10000, 32, 32, 3) (10000, 1)\n",
      "-----------------After Extraction-----------------\n",
      "Training Set:  (5000, 32, 32, 3) (5000,)\n",
      "Testing Set:  (1000, 32, 32, 3) (1000,)\n"
     ]
    }
   ],
   "source": [
    "print(\"-----------------Before Extraction----------------\")\n",
    "print(\"Training Set: \", X_train_all.shape, y_train_all.shape)\n",
    "print(\"Testing Set: \", X_test.shape, y_test.shape)\n",
    "\n",
    "X_train_reshape = X_train_all.reshape(-1, 32*32*3)\n",
    "y_train_reshape = y_train_all.reshape(-1)\n",
    "\n",
    "X_test_reshape = X_test.reshape(-1, 32*32*3)\n",
    "y_test_reshape = y_test.reshape(-1)\n",
    "\n",
    "X_train = X_train_reshape[y_train_reshape == 2].reshape(-1, 32, 32, 3)\n",
    "y_train = y_train_reshape[y_train_reshape == 2]\n",
    "\n",
    "X_test = X_test_reshape[y_test_reshape == 2].reshape(-1, 32, 32, 3)\n",
    "y_test = y_test_reshape[y_test_reshape == 2]\n",
    "\n",
    "print(\"-----------------After Extraction-----------------\")\n",
    "print(\"Training Set: \", X_train.shape, y_train.shape)\n",
    "print(\"Testing Set: \", X_test.shape, y_test.shape)"
   ]
  },
  {
   "cell_type": "markdown",
   "metadata": {},
   "source": [
    "## (c) Those 6000 images have 6000 × 32 × 32 pixels. Choose at least 10% of the pixels randomly. It is strongly recommended that you choose a large number or all of the pixels. You will have between P = 614400 and P = 6144000 pixels. Each pixel is an RGB vector with three elements."
   ]
  },
  {
   "cell_type": "code",
   "execution_count": 4,
   "metadata": {},
   "outputs": [
    {
     "name": "stdout",
     "output_type": "stream",
     "text": [
      "Concatenated Data Set:  (6000, 32, 32, 3) (6000,)\n",
      "-----------------Original PIC-----------------\n"
     ]
    },
    {
     "data": {
      "text/plain": [
       "<matplotlib.image.AxesImage at 0x7f7c37663d68>"
      ]
     },
     "execution_count": 4,
     "metadata": {},
     "output_type": "execute_result"
    },
    {
     "data": {
      "image/png": "[encoded data removed]",
      "text/plain": [
       "<Figure size 432x288 with 1 Axes>"
      ]
     },
     "metadata": {
      "needs_background": "light"
     },
     "output_type": "display_data"
    }
   ],
   "source": [
    "X_data = np.concatenate((X_train,X_test))\n",
    "y_data = np.full((6000,), 2)\n",
    "\n",
    "print(\"Concatenated Data Set: \", X_data.shape, y_data.shape)\n",
    "print(\"-----------------Original PIC-----------------\")\n",
    "plt.imshow(X_data[666])"
   ]
  },
  {
   "cell_type": "markdown",
   "metadata": {},
   "source": [
    "## (d) Run k-means clustering on the P vectors using k = 4. The centers of the clusters will be your main colors. Convert the colored images to k-color images by converting each pixel’s value to the closest main color in terms of Euclidean distance. These are the outputs of your network, whose each pixel falls in one of those k classes."
   ]
  },
  {
   "cell_type": "code",
   "execution_count": 5,
   "metadata": {},
   "outputs": [],
   "source": [
    "from sklearn.cluster import KMeans\n",
    "\n",
    "# Since the Kmeans classifier expected X_train's shape <= 2, so we have to reshape it again.\n",
    "X_data_reshape = X_data.reshape(-1, 3)\n",
    "k_means_clf = KMeans(n_clusters=4, random_state=2333, n_init=10).fit(X_data_reshape)\n",
    "main_colors = k_means_clf.cluster_centers_\n",
    "y_predict = k_means_clf.labels_"
   ]
  },
  {
   "cell_type": "code",
   "execution_count": 6,
   "metadata": {},
   "outputs": [
    {
     "name": "stdout",
     "output_type": "stream",
     "text": [
      "-----------------Converted PIC-----------------\n"
     ]
    },
    {
     "data": {
      "text/plain": [
       "<matplotlib.image.AxesImage at 0x7f7c2d27b4e0>"
      ]
     },
     "execution_count": 6,
     "metadata": {},
     "output_type": "execute_result"
    },
    {
     "data": {
      "image/png": "[encoded data removed]",
      "text/plain": [
       "<Figure size 432x288 with 1 Axes>"
      ]
     },
     "metadata": {
      "needs_background": "light"
     },
     "output_type": "display_data"
    }
   ],
   "source": [
    "X_converted = np.array(\n",
    "        [main_colors[y_predict[i]] for i in range(len(X_data_reshape))], dtype=np.uint8\n",
    ").reshape(-1, 32, 32, 3)\n",
    "\n",
    "print(\"-----------------Converted PIC-----------------\")\n",
    "plt.imshow(X_converted[666])"
   ]
  },
  {
   "cell_type": "code",
   "execution_count": 7,
   "metadata": {},
   "outputs": [
    {
     "name": "stdout",
     "output_type": "stream",
     "text": [
      "-----------------Suggested PIC-----------------\n"
     ]
    },
    {
     "data": {
      "text/plain": [
       "<matplotlib.image.AxesImage at 0x7f7c2c337828>"
      ]
     },
     "execution_count": 7,
     "metadata": {},
     "output_type": "execute_result"
    },
    {
     "data": {
      "image/png": "[encoded data removed]",
      "text/plain": [
       "<Figure size 432x288 with 1 Axes>"
      ]
     },
     "metadata": {
      "needs_background": "light"
     },
     "output_type": "display_data"
    }
   ],
   "source": [
    "# From the hw7 pdf, I take the suggestion to use a more contrastive pixel sample\n",
    "suggest_color = np.array([\n",
    "    [0,0,128],\n",
    "    [230,25,75],\n",
    "    [170,255,195],\n",
    "    [255,255,255]\n",
    "], dtype=np.uint8)\n",
    "\n",
    "X_suggest = np.array(\n",
    "        [suggest_color[y_predict[i]] for i in range(len(X_data_reshape))], dtype=np.uint8\n",
    ").reshape(-1, 32, 32, 3)\n",
    "\n",
    "print(\"-----------------Suggested PIC-----------------\")\n",
    "plt.imshow(X_suggest[666])"
   ]
  },
  {
   "cell_type": "markdown",
   "metadata": {},
   "source": [
    "##  (e) Use any tool (e.g., openCV or scikit-learn) to obtain grayscale 32 × 32 × 1 images from the original 32 × 32 × 3 images. The grayscale images are inputs of your network"
   ]
  },
  {
   "cell_type": "code",
   "execution_count": 8,
   "metadata": {},
   "outputs": [
    {
     "name": "stdout",
     "output_type": "stream",
     "text": [
      "-----------------Grayscale PIC-----------------\n"
     ]
    },
    {
     "data": {
      "text/plain": [
       "<matplotlib.image.AxesImage at 0x7f7c2c44c160>"
      ]
     },
     "execution_count": 8,
     "metadata": {},
     "output_type": "execute_result"
    },
    {
     "data": {
      "image/png": "[encoded data removed]",
      "text/plain": [
       "<Figure size 432x288 with 1 Axes>"
      ]
     },
     "metadata": {
      "needs_background": "light"
     },
     "output_type": "display_data"
    }
   ],
   "source": [
    "from skimage.color import rgb2gray\n",
    "\n",
    "X_gray = np.array([rgb2gray(X_data[i]) for i in range(len(X_data))])\n",
    "print(\"-----------------Grayscale PIC-----------------\")\n",
    "plt.imshow(X_gray[666], cmap=plt.cm.gray)"
   ]
  },
  {
   "cell_type": "code",
   "execution_count": 9,
   "metadata": {},
   "outputs": [
    {
     "data": {
      "image/png": "[encoded data removed]",
      "text/plain": [
       "<Figure size 1152x288 with 4 Axes>"
      ]
     },
     "metadata": {
      "needs_background": "light"
     },
     "output_type": "display_data"
    }
   ],
   "source": [
    "# Finally, we get four interesting pic of pigeon\n",
    "fig, axes = plt.subplots(1, 4, figsize=(16, 4))\n",
    "ax = axes.ravel()\n",
    "\n",
    "ax[0].imshow(X_data[666])\n",
    "ax[0].set_title(\"Original\")\n",
    "ax[1].imshow(X_converted[666])\n",
    "ax[1].set_title(\"Converted\")\n",
    "ax[2].imshow(X_suggest[666])\n",
    "ax[2].set_title(\"Suggested\")\n",
    "ax[3].imshow(X_gray[666], cmap=plt.cm.gray)\n",
    "ax[3].set_title(\"Grayscale\")\n",
    "\n",
    "fig.tight_layout()\n",
    "plt.show()"
   ]
  },
  {
   "cell_type": "markdown",
   "metadata": {},
   "source": [
    "## (f) Set up a deep convolutional neural network with two convolution layers (or more) and two (or more) MLP layers. Use 5 × 5 filters and a softmax output layer. Determine the number of filters, strides, and whether or not to use padding yourself. Use a minimum of one max pooling layer. Use a classification scheme, which means your output must determine one of the k = 4 color classes for each pixel in your grayscale image. Your input is a grayscale version of an image (32 × 32 × 1) and the output is 32 × 32 × 4. The output assigns one of the k = 4 colors to each of the 32 × 32 pixels; therefore, each of the pixels is classified into one of the classes [1 0 0 0],[0 1 0 0],[0 0 1 0],[0 0 0 1]. After each pixel is classified into one of the main colors, the RGB code of that color can be assigned to the pixel. For example, if the third main color is [255 255 255] and pixel (32,32) of an image has the one-hot encoded class [0 0 1 0], i.e it was classified as the third color, the (32,32) place in the output can be associated with [255 255 255]. The size of the output of the convolutional part, c1 × c2 depends on the size of the convolutional layers you choose and is a feature map, which is a matrix. That matrix must be flattened or reshaped, i.e. must be turned into a vector of size c1c2 ×1, before it is fed to the MLP part. Choose the number of neurons in the first layer of the MLP (and any other hidden layers, if you are willing to have more than one hidden layer) yourself, but the last layer must have 32 × 32 × 4 = 4096 neurons, each of which represents a pixel being in one of the k = 4 classes. Add a softmax layer which will choose the highest value out of its k = 4 inputs for each of the 1024 pixels; therefore, the output of the MLP has to be reshaped into a 32 × 32 × 4 matrix, and to get the colored image, the RGB vector of each of the k = 4 classes has to be converted to the RGB vector, so an output image will be 32 × 32 × 3. "
   ]
  },
  {
   "cell_type": "code",
   "execution_count": 10,
   "metadata": {},
   "outputs": [],
   "source": [
    "from sklearn.preprocessing import OneHotEncoder\n",
    "from sklearn.model_selection import train_test_split\n",
    "encoder = OneHotEncoder(handle_unknown='ignore')\n",
    "y_sample = [[0], [1], [2], [3]]\n",
    "encoder.fit(y_sample)\n",
    "y_encoded = encoder.transform(y_predict.reshape(-1, 1)).toarray().astype(int).reshape(-1, 32, 32, 4)\n",
    "X_train_gray, X_test_gray, y_train_gray, y_test_gray = train_test_split(\n",
    "    X_gray.reshape(-1, 32, 32, 1), y_encoded, test_size=0.1, random_state=666)"
   ]
  },
  {
   "cell_type": "code",
   "execution_count": 11,
   "metadata": {},
   "outputs": [
    {
     "data": {
      "text/plain": [
       "((5400, 32, 32, 1), (5400, 32, 32, 4), (600, 32, 32, 1), (600, 32, 32, 4))"
      ]
     },
     "execution_count": 11,
     "metadata": {},
     "output_type": "execute_result"
    }
   ],
   "source": [
    "X_train_gray.shape, y_train_gray.shape, X_test_gray.shape, y_test_gray.shape"
   ]
  },
  {
   "cell_type": "code",
   "execution_count": 12,
   "metadata": {},
   "outputs": [
    {
     "name": "stdout",
     "output_type": "stream",
     "text": [
      "Model: \"sequential\"\n",
      "_________________________________________________________________\n",
      "Layer (type)                 Output Shape              Param #   \n",
      "=================================================================\n",
      "conv2d (Conv2D)              (None, 32, 32, 64)        1664      \n",
      "_________________________________________________________________\n",
      "max_pooling2d (MaxPooling2D) (None, 32, 32, 64)        0         \n",
      "_________________________________________________________________\n",
      "conv2d_1 (Conv2D)            (None, 32, 32, 64)        102464    \n",
      "_________________________________________________________________\n",
      "max_pooling2d_1 (MaxPooling2 (None, 32, 32, 64)        0         \n",
      "_________________________________________________________________\n",
      "dense (Dense)                (None, 32, 32, 32)        2080      \n",
      "_________________________________________________________________\n",
      "dense_1 (Dense)              (None, 32, 32, 4)         132       \n",
      "=================================================================\n",
      "Total params: 106,340\n",
      "Trainable params: 106,340\n",
      "Non-trainable params: 0\n",
      "_________________________________________________________________\n"
     ]
    }
   ],
   "source": [
    "model = keras.models.Sequential([\n",
    "    keras.layers.Conv2D(filters=64, kernel_size=(5,5), strides=(1, 1), \n",
    "                        padding='same', input_shape=(32,32,1)),\n",
    "    keras.layers.MaxPooling2D(pool_size=(2, 2), strides=(1, 1), padding='same'),\n",
    "    keras.layers.Conv2D(filters=64, kernel_size=(5,5), strides=(1, 1), \n",
    "                        padding='same', activation='relu'),\n",
    "    keras.layers.MaxPooling2D(pool_size=(2, 2), strides=(1, 1), padding='same'),\n",
    "    keras.layers.Dense(32, activation=\"softmax\"),\n",
    "    keras.layers.Dense(4, activation=\"softmax\")\n",
    "])\n",
    "model.summary()"
   ]
  },
  {
   "cell_type": "markdown",
   "metadata": {},
   "source": [
    "### Train at least for 5 epochs (30 epochs is strongly recommended). Plot training, (validation), and test errors in each epoch. Report the train and test errors and visually compare the artificially colored versions of the first 10 images in the test set with the original images."
   ]
  },
  {
   "cell_type": "code",
   "execution_count": 13,
   "metadata": {},
   "outputs": [],
   "source": [
    "model.compile(optimizer=keras.optimizers.SGD(0.001), \n",
    "              loss='categorical_crossentropy', metrics=[\"accuracy\"])"
   ]
  },
  {
   "cell_type": "code",
   "execution_count": 15,
   "metadata": {},
   "outputs": [
    {
     "name": "stdout",
     "output_type": "stream",
     "text": [
      "Train on 5400 samples, validate on 600 samples\n",
      "Epoch 1/30\n",
      "5400/5400 [==============================] - 2s 307us/sample - loss: 1.3721 - accuracy: 0.2965 - val_loss: 1.3718 - val_accuracy: 0.2906\n",
      "Epoch 2/30\n",
      "5400/5400 [==============================] - 2s 302us/sample - loss: 1.3697 - accuracy: 0.2902 - val_loss: 1.3696 - val_accuracy: 0.2160\n",
      "Epoch 3/30\n",
      "5400/5400 [==============================] - 2s 303us/sample - loss: 1.3675 - accuracy: 0.2925 - val_loss: 1.3676 - val_accuracy: 0.3363\n",
      "Epoch 4/30\n",
      "5400/5400 [==============================] - 2s 318us/sample - loss: 1.3655 - accuracy: 0.3375 - val_loss: 1.3658 - val_accuracy: 0.3364\n",
      "Epoch 5/30\n",
      "5400/5400 [==============================] - 2s 327us/sample - loss: 1.3636 - accuracy: 0.3375 - val_loss: 1.3642 - val_accuracy: 0.3364\n",
      "Epoch 6/30\n",
      "5400/5400 [==============================] - 2s 325us/sample - loss: 1.3619 - accuracy: 0.3375 - val_loss: 1.3626 - val_accuracy: 0.3364\n",
      "Epoch 7/30\n",
      "5400/5400 [==============================] - 2s 327us/sample - loss: 1.3604 - accuracy: 0.3375 - val_loss: 1.3612 - val_accuracy: 0.3364\n",
      "Epoch 8/30\n",
      "5400/5400 [==============================] - 2s 327us/sample - loss: 1.3589 - accuracy: 0.3375 - val_loss: 1.3600 - val_accuracy: 0.3364\n",
      "Epoch 9/30\n",
      "5400/5400 [==============================] - 2s 325us/sample - loss: 1.3576 - accuracy: 0.3375 - val_loss: 1.3588 - val_accuracy: 0.3364\n",
      "Epoch 10/30\n",
      "5400/5400 [==============================] - 2s 304us/sample - loss: 1.3564 - accuracy: 0.3375 - val_loss: 1.3577 - val_accuracy: 0.3364\n",
      "Epoch 11/30\n",
      "5400/5400 [==============================] - 2s 304us/sample - loss: 1.3553 - accuracy: 0.3375 - val_loss: 1.3567 - val_accuracy: 0.3364\n",
      "Epoch 12/30\n",
      "5400/5400 [==============================] - 2s 304us/sample - loss: 1.3543 - accuracy: 0.3375 - val_loss: 1.3558 - val_accuracy: 0.3364\n",
      "Epoch 13/30\n",
      "5400/5400 [==============================] - 2s 303us/sample - loss: 1.3533 - accuracy: 0.3375 - val_loss: 1.3550 - val_accuracy: 0.3364\n",
      "Epoch 14/30\n",
      "5400/5400 [==============================] - 2s 302us/sample - loss: 1.3525 - accuracy: 0.3375 - val_loss: 1.3543 - val_accuracy: 0.3364\n",
      "Epoch 15/30\n",
      "5400/5400 [==============================] - 2s 305us/sample - loss: 1.3517 - accuracy: 0.3375 - val_loss: 1.3536 - val_accuracy: 0.3364\n",
      "Epoch 16/30\n",
      "5400/5400 [==============================] - 2s 305us/sample - loss: 1.3509 - accuracy: 0.3375 - val_loss: 1.3529 - val_accuracy: 0.3364\n",
      "Epoch 17/30\n",
      "5400/5400 [==============================] - 2s 307us/sample - loss: 1.3502 - accuracy: 0.3375 - val_loss: 1.3523 - val_accuracy: 0.3364\n",
      "Epoch 18/30\n",
      "5400/5400 [==============================] - 2s 304us/sample - loss: 1.3496 - accuracy: 0.3375 - val_loss: 1.3518 - val_accuracy: 0.3364\n",
      "Epoch 19/30\n",
      "5400/5400 [==============================] - 2s 305us/sample - loss: 1.3490 - accuracy: 0.3375 - val_loss: 1.3513 - val_accuracy: 0.3364\n",
      "Epoch 20/30\n",
      "5400/5400 [==============================] - 2s 301us/sample - loss: 1.3485 - accuracy: 0.3375 - val_loss: 1.3508 - val_accuracy: 0.3364\n",
      "Epoch 21/30\n",
      "5400/5400 [==============================] - 2s 303us/sample - loss: 1.3480 - accuracy: 0.3375 - val_loss: 1.3504 - val_accuracy: 0.3364\n",
      "Epoch 22/30\n",
      "5400/5400 [==============================] - 2s 306us/sample - loss: 1.3475 - accuracy: 0.3375 - val_loss: 1.3500 - val_accuracy: 0.3364\n",
      "Epoch 23/30\n",
      "5400/5400 [==============================] - 2s 304us/sample - loss: 1.3471 - accuracy: 0.3375 - val_loss: 1.3496 - val_accuracy: 0.3364\n",
      "Epoch 24/30\n",
      "5400/5400 [==============================] - 2s 301us/sample - loss: 1.3467 - accuracy: 0.3375 - val_loss: 1.3493 - val_accuracy: 0.3364\n",
      "Epoch 25/30\n",
      "5400/5400 [==============================] - 2s 302us/sample - loss: 1.3463 - accuracy: 0.3375 - val_loss: 1.3490 - val_accuracy: 0.3364\n",
      "Epoch 26/30\n",
      "5400/5400 [==============================] - 2s 303us/sample - loss: 1.3460 - accuracy: 0.3375 - val_loss: 1.3487 - val_accuracy: 0.3364\n",
      "Epoch 27/30\n",
      "5400/5400 [==============================] - 2s 299us/sample - loss: 1.3456 - accuracy: 0.3375 - val_loss: 1.3484 - val_accuracy: 0.3364\n",
      "Epoch 28/30\n",
      "5400/5400 [==============================] - 2s 301us/sample - loss: 1.3453 - accuracy: 0.3375 - val_loss: 1.3482 - val_accuracy: 0.3364\n",
      "Epoch 29/30\n",
      "5400/5400 [==============================] - 2s 303us/sample - loss: 1.3451 - accuracy: 0.3375 - val_loss: 1.3480 - val_accuracy: 0.3364\n",
      "Epoch 30/30\n",
      "5400/5400 [==============================] - 2s 301us/sample - loss: 1.3448 - accuracy: 0.3375 - val_loss: 1.3478 - val_accuracy: 0.3364\n"
     ]
    }
   ],
   "source": [
    "epochs = 30\n",
    "output_dir = \"./cnn_checkpoint\"\n",
    "if not os.path.exists(output_dir):\n",
    "    os.mkdir(output_dir)\n",
    "    \n",
    "checkpoint_prefix = os.path.join(output_dir, 'ck_{epoch:02d}.hdf5')\n",
    "checkpoint_callback = keras.callbacks.ModelCheckpoint(\n",
    "    filepath = checkpoint_prefix,\n",
    "    save_weights_only= True\n",
    ")\n",
    "earlyStoppingCk = keras.callbacks.EarlyStopping(patience = 5, min_delta = 1e-4)\n",
    "\n",
    "history = model.fit(X_train_gray, y_train_gray, epochs=epochs, \n",
    "                    validation_data=(X_test_gray, y_test_gray), \n",
    "                    callbacks=[checkpoint_callback, earlyStoppingCk])"
   ]
  },
  {
   "cell_type": "code",
   "execution_count": 16,
   "metadata": {},
   "outputs": [
    {
     "data": {
      "image/png": "[encoded data removed]",
      "text/plain": [
       "<Figure size 432x288 with 1 Axes>"
      ]
     },
     "metadata": {
      "needs_background": "light"
     },
     "output_type": "display_data"
    }
   ],
   "source": [
    "def plot_error_curves(history):\n",
    "    plt.plot(history.history['loss'])\n",
    "    plt.plot(history.history['val_loss'])\n",
    "    plt.grid(True)\n",
    "    plt.gca()\n",
    "    plt.ylabel('Loss')\n",
    "    plt.xlabel('Epochs')\n",
    "    plt.legend(['Train', 'Test'], loc='upper right')\n",
    "    plt.show()\n",
    "    \n",
    "plot_error_curves(history)"
   ]
  },
  {
   "cell_type": "code",
   "execution_count": 17,
   "metadata": {},
   "outputs": [],
   "source": [
    "y_pred_color = model.predict(X_test_gray)\n",
    "y_pred_color = y_pred_color.reshape(X_test_gray.shape[0] * 32 * 32, 4)\n",
    "output_images = []\n",
    "for index in range(len(y_pred_color)):\n",
    "    output_images.append([int(color) for color in main_colors[np.argmax(y_pred_color[index])]])\n",
    "    \n",
    "y_test_reshaped = y_test_gray.reshape(X_test_gray.shape[0] * 32 * 32, 4)\n",
    "y_test_k_color = []\n",
    "for p in range(len(y_test_reshaped)):\n",
    "    y_test_k_color.append([int(color) for color in main_colors[np.argmax(y_test_reshaped[p])]])\n",
    "output_images = np.reshape(output_images, (-1, 32, 32, 3))\n",
    "y_test_k_color = np.reshape(y_test_k_color, (-1, 32, 32, 3))"
   ]
  },
  {
   "cell_type": "code",
   "execution_count": 18,
   "metadata": {},
   "outputs": [
    {
     "data": {
      "image/png": "[encoded data removed]",
      "text/plain": [
       "<Figure size 432x432 with 4 Axes>"
      ]
     },
     "metadata": {
      "needs_background": "light"
     },
     "output_type": "display_data"
    }
   ],
   "source": [
    "fig, axes = plt.subplots(2, 2, figsize=(6, 6))\n",
    "ax = axes.ravel()\n",
    "\n",
    "ax[0].imshow(y_test_k_color[233])\n",
    "ax[1].imshow(X_test_gray.reshape(-1,32,32)[233], cmap=plt.cm.gray)\n",
    "\n",
    "ax[2].imshow(y_test_k_color[66])\n",
    "ax[3].imshow(X_test_gray.reshape(-1,32,32)[66], cmap=plt.cm.gray)\n",
    "\n",
    "ax[0].set_title(\"Colored\")\n",
    "ax[1].set_title(\"GrayScale\")\n",
    "\n",
    "fig.tight_layout()\n",
    "plt.show()"
   ]
  },
  {
   "cell_type": "markdown",
   "metadata": {},
   "source": [
    "##  (g) Extra Practice: Repeat the whole exercise with k = 16, 24, 32 colors if your computer can handle the computations."
   ]
  },
  {
   "cell_type": "code",
   "execution_count": null,
   "metadata": {},
   "outputs": [],
   "source": []
  }
 ],
 "metadata": {
  "kernelspec": {
   "display_name": "Python 3",
   "language": "python",
   "name": "python3"
  },
  "language_info": {
   "codemirror_mode": {
    "name": "ipython",
    "version": 3
   },
   "file_extension": ".py",
   "mimetype": "text/x-python",
   "name": "python",
   "nbconvert_exporter": "python",
   "pygments_lexer": "ipython3",
   "version": "3.7.3"
  }
 },
 "nbformat": 4,
 "nbformat_minor": 2
}
