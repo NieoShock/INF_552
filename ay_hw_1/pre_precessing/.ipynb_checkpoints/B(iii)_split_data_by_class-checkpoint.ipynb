{
 "cells": [
  {
   "cell_type": "markdown",
   "metadata": {},
   "source": [
    "### iii. Select the first 70 rows of Class 0 and the first 140 rows of Class 1 as the training set and the rest of the data as the test set."
   ]
  },
  {
   "cell_type": "code",
   "execution_count": 1,
   "metadata": {},
   "outputs": [],
   "source": [
    "# _global.py \n",
    "CLASS0 = \"class 0\"\n",
    "CLASS1 = \"class 1\"\n",
    "EPSILON = 1e-8"
   ]
  },
  {
   "cell_type": "code",
   "execution_count": 2,
   "metadata": {},
   "outputs": [],
   "source": [
    "import numpy as np\n",
    "\n",
    "def load_data(file_path):\n",
    "\t\"\"\"read records from csv file\"\"\"\n",
    "\trow_data = np.genfromtxt(file_path, dtype=None, delimiter=',', encoding='utf-8')[1:]\n",
    "\tX = np.array(row_data[:, :-1], dtype=float)\n",
    "\tY_row_str_data = row_data[:, row_data.shape[1] - 1]\n",
    "\ty = np.array([1 if x == \"Abnormal\" else 0 for x in Y_row_str_data])\n",
    "\t# print(X)\n",
    "\t# print(y)\n",
    "\treturn X, y\n",
    "\n",
    "def train_test_by_class_index(X, y, split_info_dict):\n",
    "\t\"\"\"According to the dict, split row data into X_train, X_test, y_train, y_test\"\"\"\n",
    "\tassert X.shape[0] == y.shape[0], \\\n",
    "\t\t\"the size of X must be equal to the size of y\"\n",
    "\tassert split_info_dict is not None, \\\n",
    "\t\t\"Please initialize a dict with {CLASS0: int, CLASS1: int}\"\n",
    "\t\n",
    "\tnormal_indexes = (y == 0)\n",
    "\tabnormal_indexes = (y == 1)\n",
    "\tnormal_limit = split_info_dict[CLASS0]\n",
    "\tabnormal_limit = split_info_dict[CLASS1]\n",
    "\n",
    "\t'''first 70 rows of class 0'''\n",
    "\tX_data_normal = X[normal_indexes, :][:normal_limit]\n",
    "\ty_data_normal = y[normal_indexes][:normal_limit]\n",
    "\n",
    "\t'''the rest of data in class 0'''\n",
    "\tX_rest_data_normal = X[normal_indexes, :][normal_limit:]\n",
    "\ty_rest_data_normal = y[normal_indexes][normal_limit:]\n",
    "\n",
    "\t'''first 140 rows of class 1'''\n",
    "\tX_data_abnormal = X[abnormal_indexes, :][:abnormal_limit]\n",
    "\ty_data_abnormal = y[abnormal_indexes][:abnormal_limit]\n",
    "\t'''the rest of data in class 1'''\n",
    "\tX_rest_data_abnormal = X[abnormal_indexes, :][abnormal_limit:]\n",
    "\ty_rest_data_abnormal = y[abnormal_indexes][abnormal_limit:]\n",
    "\n",
    "\t'''combine them into one array'''\n",
    "\tX_train = np.concatenate((X_data_normal, X_data_abnormal), axis=0)\n",
    "\tX_test = np.concatenate((X_rest_data_normal, X_rest_data_abnormal), axis=0)\n",
    "\n",
    "\ty_train = np.concatenate((y_data_normal, y_data_abnormal), axis=0)\n",
    "\ty_test = np.concatenate((y_rest_data_normal, y_rest_data_abnormal), axis=0)\n",
    "\n",
    "\treturn X_train, X_test, y_train, y_test"
   ]
  },
  {
   "cell_type": "code",
   "execution_count": 3,
   "metadata": {},
   "outputs": [
    {
     "name": "stdout",
     "output_type": "stream",
     "text": [
      "X_train.shape = (210, 6)\n",
      "X_test.shape = (100, 6)\n",
      "y_train.shape = (210,)\n",
      "y_test.shape = (100,)\n"
     ]
    }
   ],
   "source": [
    "X_row_data, Y_row_data = load_data('../assets/data.csv')\n",
    "\n",
    "split_info_dict = {CLASS0: 70, CLASS1: 140}\n",
    "\n",
    "X_train, X_test, y_train, y_test = \\\n",
    "    train_test_by_class_index(X_row_data, Y_row_data, split_info_dict)\n",
    "\n",
    "print(\"X_train.shape = {}\".format(X_train.shape))\n",
    "print(\"X_test.shape = {}\".format(X_test.shape))\n",
    "print(\"y_train.shape = {}\".format(y_train.shape))\n",
    "print(\"y_test.shape = {}\".format(y_test.shape))"
   ]
  },
  {
   "cell_type": "code",
   "execution_count": null,
   "metadata": {},
   "outputs": [],
   "source": []
  }
 ],
 "metadata": {
  "kernelspec": {
   "display_name": "Python 3",
   "language": "python",
   "name": "python3"
  },
  "language_info": {
   "codemirror_mode": {
    "name": "ipython",
    "version": 3
   },
   "file_extension": ".py",
   "mimetype": "text/x-python",
   "name": "python",
   "nbconvert_exporter": "python",
   "pygments_lexer": "ipython3",
   "version": "3.7.3"
  }
 },
 "nbformat": 4,
 "nbformat_minor": 2
}
