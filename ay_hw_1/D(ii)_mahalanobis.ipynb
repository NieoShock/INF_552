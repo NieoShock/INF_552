{
 "cells": [
  {
   "cell_type": "markdown",
   "metadata": {},
   "source": [
    "#### ii. Mahalanobis Distance."
   ]
  },
  {
   "cell_type": "code",
   "execution_count": 1,
   "metadata": {},
   "outputs": [],
   "source": [
    "import numpy as np\n",
    "\n",
    "CLASS0 = \"class 0\"\n",
    "CLASS1 = \"class 1\"\n",
    "EPSILON = 1e-8\n",
    "\n",
    "def load_data(file_path):\n",
    "\t\"\"\"read records from csv file\"\"\"\n",
    "\trow_data = np.genfromtxt(file_path, dtype=None, delimiter=',', encoding='utf-8')[1:]\n",
    "\tX = np.array(row_data[:, :-1], dtype=float)\n",
    "\tY_row_str_data = row_data[:, row_data.shape[1] - 1]\n",
    "\ty = np.array([1 if x == \"Abnormal\" else 0 for x in Y_row_str_data])\n",
    "\treturn X, y\n",
    "\n",
    "def train_test_by_class_index(X, y, split_info_dict):\n",
    "\t\"\"\"According to the dict, split row data into X_train, X_test, y_train, y_test\"\"\"\n",
    "\tassert X.shape[0] == y.shape[0], \\\n",
    "\t\t\"the size of X must be equal to the size of y\"\n",
    "\tassert split_info_dict is not None, \\\n",
    "\t\t\"Please initialize a dict with {CLASS0: int, CLASS1: int}\"\n",
    "\t\n",
    "\tnormal_indexes = (y == 0)\n",
    "\tabnormal_indexes = (y == 1)\n",
    "\tnormal_limit = split_info_dict[CLASS0]\n",
    "\tabnormal_limit = split_info_dict[CLASS1]\n",
    "\n",
    "\t'''first 70 rows of class 0'''\n",
    "\tX_data_normal = X[normal_indexes, :][:normal_limit]\n",
    "\ty_data_normal = y[normal_indexes][:normal_limit]\n",
    "\n",
    "\t'''the rest of data in class 0'''\n",
    "\tX_rest_data_normal = X[normal_indexes, :][normal_limit:]\n",
    "\ty_rest_data_normal = y[normal_indexes][normal_limit:]\n",
    "\n",
    "\t'''first 140 rows of class 1'''\n",
    "\tX_data_abnormal = X[abnormal_indexes, :][:abnormal_limit]\n",
    "\ty_data_abnormal = y[abnormal_indexes][:abnormal_limit]\n",
    "\t'''the rest of data in class 1'''\n",
    "\tX_rest_data_abnormal = X[abnormal_indexes, :][abnormal_limit:]\n",
    "\ty_rest_data_abnormal = y[abnormal_indexes][abnormal_limit:]\n",
    "\n",
    "\t'''combine them into one array'''\n",
    "\tX_train = np.concatenate((X_data_normal, X_data_abnormal), axis=0)\n",
    "\tX_test = np.concatenate((X_rest_data_normal, X_rest_data_abnormal), axis=0)\n",
    "\n",
    "\ty_train = np.concatenate((y_data_normal, y_data_abnormal), axis=0)\n",
    "\ty_test = np.concatenate((y_rest_data_normal, y_rest_data_abnormal), axis=0)\n",
    "\n",
    "\treturn X_train, X_test, y_train, y_test"
   ]
  },
  {
   "cell_type": "code",
   "execution_count": 2,
   "metadata": {},
   "outputs": [],
   "source": [
    "import matplotlib.pyplot as plt\n",
    "from sklearn.neighbors import KNeighborsClassifier\n",
    "from sklearn.preprocessing import StandardScaler"
   ]
  },
  {
   "cell_type": "code",
   "execution_count": 3,
   "metadata": {},
   "outputs": [
    {
     "data": {
      "image/png": "[encoded data removed]",
      "text/plain": [
       "<Figure size 432x288 with 1 Axes>"
      ]
     },
     "metadata": {
      "needs_background": "light"
     },
     "output_type": "display_data"
    }
   ],
   "source": [
    "# Test Manhattan Distance when p = 1\n",
    "X_row_data, Y_row_data = load_data('./assets/data.csv')\n",
    "\n",
    "split_info_dict = {CLASS0: 70, CLASS1: 140}\n",
    "\n",
    "X_train, X_test, y_train, y_test = train_test_by_class_index(X_row_data, Y_row_data, split_info_dict)\n",
    "\n",
    "#Standardization\n",
    "standardScaler = StandardScaler()\n",
    "standardScaler.fit(X_train)\n",
    "X_train = standardScaler.transform(X_train)\n",
    "X_test = standardScaler.transform(X_test)\n",
    "\n",
    "alternative_k = np.arange(1, 197, 5)\n",
    "train_accuracy = np.empty(len(alternative_k))\n",
    "test_accuracy = np.empty(len(alternative_k))\n",
    "\n",
    "for index, k in enumerate(alternative_k):\n",
    "    # KNeighborsClassifier based on Sklearn Mahalanobis Distance.\n",
    "    knn_clf = KNeighborsClassifier(n_neighbors=k, metric=\"mahalanobis\",\n",
    "                                   metric_params={'V': np.cov(X_train)}, algorithm=\"brute\")\n",
    "\n",
    "    knn_clf.fit(X_train, y_train)\n",
    "\n",
    "    y_predict = knn_clf.predict(X_test)\n",
    "\n",
    "    train_accuracy[index] = knn_clf.score(X_train, y_train)\n",
    "\n",
    "    test_accuracy[index] = knn_clf.score(X_test, y_test)\n",
    "\n",
    "best_accuracy_ = np.max(test_accuracy)\n",
    "best_k_ = (np.reshape(np.argwhere(test_accuracy == best_accuracy_), (1, -1))[0]) * 5 + 1\n",
    "\n",
    "plt.title('k-NN Varying number of neighbors (Sklearn-Mahalanobis)')\n",
    "plt.plot(alternative_k, test_accuracy, label='Testing Accuracy')\n",
    "plt.vlines(best_k_, 0.65, 1, colors='red', label='k = ' + str(best_k_), linestyles='dotted')\n",
    "plt.hlines(best_accuracy_, 0, 197, colors='gray', label='accuracy = ' + str(best_accuracy_), linestyles='dotted')\n",
    "plt.legend()\n",
    "plt.grid(True)\n",
    "plt.xlabel('Number of neighbors')\n",
    "plt.ylabel('Accuracy')\n",
    "plt.show()"
   ]
  },
  {
   "cell_type": "code",
   "execution_count": null,
   "metadata": {},
   "outputs": [],
   "source": []
  }
 ],
 "metadata": {
  "kernelspec": {
   "display_name": "Python 3",
   "language": "python",
   "name": "python3"
  },
  "language_info": {
   "codemirror_mode": {
    "name": "ipython",
    "version": 3
   },
   "file_extension": ".py",
   "mimetype": "text/x-python",
   "name": "python",
   "nbconvert_exporter": "python",
   "pygments_lexer": "ipython3",
   "version": "3.7.3"
  }
 },
 "nbformat": 4,
 "nbformat_minor": 2
}
