{
 "cells": [
  {
   "cell_type": "code",
   "execution_count": 1,
   "metadata": {},
   "outputs": [],
   "source": [
    "# _global.py\n",
    "CLASS0 = \"class 0\"\n",
    "CLASS1 = \"class 1\"\n",
    "EPSILON = 1e-8"
   ]
  },
  {
   "cell_type": "code",
   "execution_count": 2,
   "metadata": {},
   "outputs": [],
   "source": [
    "import numpy as np\n",
    "\n",
    "def load_data(file_path):\n",
    "\t\"\"\"read records from csv file\"\"\"\n",
    "\trow_data = np.genfromtxt(file_path, dtype=None, delimiter=',', encoding='utf-8')[1:]\n",
    "\tX = np.array(row_data[:, :-1], dtype=float)\n",
    "\tY_row_str_data = row_data[:, row_data.shape[1] - 1]\n",
    "\ty = np.array([1 if x == \"Abnormal\" else 0 for x in Y_row_str_data])\n",
    "\t# print(X)\n",
    "\t# print(y)\n",
    "\treturn X, y\n",
    "\n",
    "def train_test_by_class_index(X, y, split_info_dict):\n",
    "\t\"\"\"According to the dict, split row data into X_train, X_test, y_train, y_test\"\"\"\n",
    "\tassert X.shape[0] == y.shape[0], \\\n",
    "\t\t\"the size of X must be equal to the size of y\"\n",
    "\tassert split_info_dict is not None, \\\n",
    "\t\t\"Please initialize a dict with {CLASS0: int, CLASS1: int}\"\n",
    "\t\n",
    "\tnormal_indexes = (y == 0)\n",
    "\tabnormal_indexes = (y == 1)\n",
    "\tnormal_limit = split_info_dict[CLASS0]\n",
    "\tabnormal_limit = split_info_dict[CLASS1]\n",
    "\n",
    "\t'''first 70 rows of class 0'''\n",
    "\tX_data_normal = X[normal_indexes, :][:normal_limit]\n",
    "\ty_data_normal = y[normal_indexes][:normal_limit]\n",
    "\n",
    "\t'''the rest of data in class 0'''\n",
    "\tX_rest_data_normal = X[normal_indexes, :][normal_limit:]\n",
    "\ty_rest_data_normal = y[normal_indexes][normal_limit:]\n",
    "\n",
    "\t'''first 140 rows of class 1'''\n",
    "\tX_data_abnormal = X[abnormal_indexes, :][:abnormal_limit]\n",
    "\ty_data_abnormal = y[abnormal_indexes][:abnormal_limit]\n",
    "\t'''the rest of data in class 1'''\n",
    "\tX_rest_data_abnormal = X[abnormal_indexes, :][abnormal_limit:]\n",
    "\ty_rest_data_abnormal = y[abnormal_indexes][abnormal_limit:]\n",
    "\n",
    "\t'''combine them into one array'''\n",
    "\tX_train = np.concatenate((X_data_normal, X_data_abnormal), axis=0)\n",
    "\tX_test = np.concatenate((X_rest_data_normal, X_rest_data_abnormal), axis=0)\n",
    "\n",
    "\ty_train = np.concatenate((y_data_normal, y_data_abnormal), axis=0)\n",
    "\ty_test = np.concatenate((y_rest_data_normal, y_rest_data_abnormal), axis=0)\n",
    "\n",
    "\treturn X_train, X_test, y_train, y_test"
   ]
  },
  {
   "cell_type": "code",
   "execution_count": 3,
   "metadata": {},
   "outputs": [],
   "source": [
    "def accuracy_score(y_true, y_predict):\n",
    "\t'''compare every single item in each array'''\n",
    "\tassert y_true.shape[0] == y_predict.shape[0], \\\n",
    "\t\t\"the shape of y_true need to be identical with y_predict\"\n",
    "\treturn sum(y_true == y_predict) / len(y_true)"
   ]
  },
  {
   "cell_type": "code",
   "execution_count": 4,
   "metadata": {},
   "outputs": [],
   "source": [
    "from math import sqrt\n",
    "from collections import Counter\n",
    "\n",
    "class KNeighborsClassifier:\n",
    "\n",
    "\tdef __init__(self, n_neighbors):\n",
    "\t\tassert n_neighbors >= 1, \"n_neighbors must be a valid number\"\n",
    "\t\tself.n_neighbors = n_neighbors\n",
    "\t\tself._X_train = None\n",
    "\t\tself._y_train = None\n",
    "\n",
    "\tdef fit(self, X_train, y_train):\n",
    "\t\tassert X_train.shape[0] == y_train.shape[0], \"\"\n",
    "\t\tassert self.n_neighbors <= X_train.shape[0], \"\"\n",
    "\t\tself._y_train = y_train\n",
    "\t\tself._X_train = X_train\n",
    "\t\treturn self\n",
    "\n",
    "\tdef predict(self, X_test):\n",
    "\t\tassert self._X_train is not None and self._y_train is not None, \"\"\n",
    "\t\tassert X_test.shape[1] == self._X_train.shape[1], \"\"\n",
    "\n",
    "\t\ty_predict = [self._predict(x) for x in X_test]\n",
    "\t\treturn np.array(y_predict)\n",
    "\n",
    "\tdef _predict(self, x):\n",
    "\t\tassert x.shape[0] == self._X_train.shape[1], \"\"\n",
    "\t\t# Euclidean Distance metric ==> sqrt(sum((x - y)^2))\n",
    "\t\tdistances = [sqrt(np.sum(item - x) ** 2) for item in self._X_train]\n",
    "\t\tnearest = np.argsort(distances)\n",
    "\t\ttopK_y = [self._y_train[i] for i in nearest[:self.n_neighbors]]\n",
    "\t\tvotes = Counter(topK_y)\n",
    "\t\treturn votes.most_common(1)[0][0]\n",
    "\n",
    "\tdef score(self, X_test, y_test):\n",
    "\t\ty_predict = self.predict(X_test)\n",
    "\t\treturn accuracy_score(y_test, y_predict)\n",
    "\n",
    "\tdef __repr__(self):\n",
    "\t\treturn \"KNN(n_neighbors = %d)\" % self.n_neighbors"
   ]
  },
  {
   "cell_type": "code",
   "execution_count": 5,
   "metadata": {},
   "outputs": [],
   "source": [
    "import matplotlib.pyplot as plt\n",
    "from sklearn.model_selection import train_test_split\n",
    "from sklearn.preprocessing import StandardScaler"
   ]
  },
  {
   "cell_type": "code",
   "execution_count": 6,
   "metadata": {},
   "outputs": [
    {
     "data": {
      "image/png": "[encoded data removed]",
      "text/plain": [
       "<Figure size 432x288 with 1 Axes>"
      ]
     },
     "metadata": {
      "needs_background": "light"
     },
     "output_type": "display_data"
    }
   ],
   "source": [
    "from sklearn.metrics import confusion_matrix\n",
    "from sklearn.metrics import classification_report\n",
    "\n",
    "import pandas as pd\n",
    "import math\n",
    "\n",
    "X_row_data, Y_row_data = load_data('../assets/data.csv')\n",
    "\n",
    "alternative_N = np.arange(10, 211, 10)\n",
    "test_accuracy = np.empty(len(alternative_N))\n",
    "for index, N in enumerate(alternative_N):\n",
    "    class0_row_num = math.floor(N / 3)\n",
    "    class1_row_num = N - class0_row_num\n",
    "    split_info_dict = {CLASS0: class0_row_num, CLASS1: class1_row_num}\n",
    "    X_train, X_test, y_train, y_test = train_test_by_class_index(X_row_data, Y_row_data, split_info_dict)\n",
    "\n",
    "    # Standardization\n",
    "    standardScaler = StandardScaler()\n",
    "    standardScaler.fit(X_train)\n",
    "    X_train = standardScaler.transform(X_train)\n",
    "    X_test = standardScaler.transform(X_test)\n",
    "    \n",
    "    for k in np.arange(1, N, 5):\n",
    "        knn_clf = KNeighborsClassifier(n_neighbors=k)\n",
    "        knn_clf.fit(X_train, y_train)\n",
    "        score = knn_clf.score(X_test, y_test)\n",
    "        # print(\"N = {}, k = {}, score = {}\".format(N, k, score))\n",
    "\n",
    "        test_accuracy[index] = score if test_accuracy[index] < score else test_accuracy[index]\n",
    "\n",
    "test_error_rate = np.array([1 - score for score in test_accuracy])\n",
    "\n",
    "higest_accuracy_rate = np.max(test_accuracy)\n",
    "lowest_accuracy_rate = np.min(test_accuracy)\n",
    "higest_accuracy_N = np.argmax(test_accuracy) * 10 + 10\n",
    "lowest_accuracy_N = np.argmin(test_accuracy) * 10 + 10\n",
    "\n",
    "plt.title('Learning Curve (Aaron)')\n",
    "plt.plot(alternative_N, test_error_rate, label='Error Rate')\n",
    "plt.vlines(higest_accuracy_N, 0, 0.35, colors='red', label='N = ' + str(higest_accuracy_N), linestyles='dotted')\n",
    "plt.hlines(1 - higest_accuracy_rate, 0, 211, colors='red', label='error rate = ' + str(1 - higest_accuracy_rate[:6]),\n",
    "           linestyles='dotted')\n",
    "\n",
    "plt.vlines(lowest_accuracy_N, 0, 0.35, colors='green', label='N = ' + str(lowest_accuracy_N), linestyles='dotted')\n",
    "plt.hlines(1 - lowest_accuracy_rate, 0, 211, colors='green', label='error rate = ' + str(1 - lowest_accuracy_rate)[:6],\n",
    "           linestyles='dotted')\n",
    "plt.legend()\n",
    "plt.grid(True)\n",
    "plt.xlabel('Size of Training Sets')\n",
    "plt.ylabel('Error Rate')\n",
    "plt.show()"
   ]
  },
  {
   "cell_type": "code",
   "execution_count": null,
   "metadata": {},
   "outputs": [],
   "source": []
  }
 ],
 "metadata": {
  "kernelspec": {
   "display_name": "Python 3",
   "language": "python",
   "name": "python3"
  },
  "language_info": {
   "codemirror_mode": {
    "name": "ipython",
    "version": 3
   },
   "file_extension": ".py",
   "mimetype": "text/x-python",
   "name": "python",
   "nbconvert_exporter": "python",
   "pygments_lexer": "ipython3",
   "version": "3.7.3"
  }
 },
 "nbformat": 4,
 "nbformat_minor": 2
}
