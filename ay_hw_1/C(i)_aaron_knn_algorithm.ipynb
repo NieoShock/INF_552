{
 "cells": [
  {
   "cell_type": "markdown",
   "metadata": {},
   "source": [
    "### i. Write code for k-nearest neighbors with Euclidean metric (or use a software package)"
   ]
  },
  {
   "cell_type": "code",
   "execution_count": 1,
   "metadata": {},
   "outputs": [],
   "source": [
    "# util_notebook.py\n",
    "import numpy as np\n",
    "\n",
    "CLASS0 = \"class 0\"\n",
    "CLASS1 = \"class 1\"\n",
    "EPSILON = 1e-8\n",
    "\n",
    "def load_data(file_path):\n",
    "\t\"\"\"read records from csv file\"\"\"\n",
    "\trow_data = np.genfromtxt(file_path, dtype=None, delimiter=',', encoding='utf-8')[1:]\n",
    "\tX = np.array(row_data[:, :-1], dtype=float)\n",
    "\tY_row_str_data = row_data[:, row_data.shape[1] - 1]\n",
    "\ty = np.array([1 if x == \"Abnormal\" else 0 for x in Y_row_str_data])\n",
    "\t# print(X)\n",
    "\t# print(y)\n",
    "\treturn X, y\n",
    "\n",
    "\n",
    "def train_test_by_class_index(X, y, split_info_dict):\n",
    "\t\"\"\"According to the dict, split row data into X_train, X_test, y_train, y_test\"\"\"\n",
    "\tassert X.shape[0] == y.shape[0], \\\n",
    "\t\t\"the size of X must be equal to the size of y\"\n",
    "\tassert split_info_dict is not None, \\\n",
    "\t\t\"Please initialize a dict with {CLASS0: int, CLASS1: int}\"\n",
    "\t\n",
    "\tnormal_indexes = (y == 0)\n",
    "\tabnormal_indexes = (y == 1)\n",
    "\tnormal_limit = split_info_dict[CLASS0]\n",
    "\tabnormal_limit = split_info_dict[CLASS1]\n",
    "\n",
    "\t'''first 70 rows of class 0'''\n",
    "\tX_data_normal = X[normal_indexes, :][:normal_limit]\n",
    "\ty_data_normal = y[normal_indexes][:normal_limit]\n",
    "\n",
    "\t'''the rest of data in class 0'''\n",
    "\tX_rest_data_normal = X[normal_indexes, :][normal_limit:]\n",
    "\ty_rest_data_normal = y[normal_indexes][normal_limit:]\n",
    "\n",
    "\t'''first 140 rows of class 1'''\n",
    "\tX_data_abnormal = X[abnormal_indexes, :][:abnormal_limit]\n",
    "\ty_data_abnormal = y[abnormal_indexes][:abnormal_limit]\n",
    "\t'''the rest of data in class 1'''\n",
    "\tX_rest_data_abnormal = X[abnormal_indexes, :][abnormal_limit:]\n",
    "\ty_rest_data_abnormal = y[abnormal_indexes][abnormal_limit:]\n",
    "\n",
    "\t'''combine them into one array'''\n",
    "\tX_train = np.concatenate((X_data_normal, X_data_abnormal), axis=0)\n",
    "\tX_test = np.concatenate((X_rest_data_normal, X_rest_data_abnormal), axis=0)\n",
    "\n",
    "\ty_train = np.concatenate((y_data_normal, y_data_abnormal), axis=0)\n",
    "\ty_test = np.concatenate((y_rest_data_normal, y_rest_data_abnormal), axis=0)\n",
    "\n",
    "\treturn X_train, X_test, y_train, y_test\n"
   ]
  },
  {
   "cell_type": "code",
   "execution_count": 2,
   "metadata": {},
   "outputs": [],
   "source": [
    "def accuracy_score(y_true, y_predict):\n",
    "\t'''compare every single item in each array'''\n",
    "\tassert y_true.shape[0] == y_predict.shape[0], \\\n",
    "\t\t\"the shape of y_true need to be identical with y_predict\"\n",
    "\treturn sum(y_true == y_predict) / len(y_true)"
   ]
  },
  {
   "cell_type": "code",
   "execution_count": 3,
   "metadata": {},
   "outputs": [],
   "source": [
    "# Aarons KNN algrithm based on Eulidean Distance\n",
    "from math import sqrt\n",
    "from collections import Counter\n",
    "\n",
    "class KNeighborsClassifier:\n",
    "\n",
    "\tdef __init__(self, n_neighbors):\n",
    "\t\tassert n_neighbors >= 1, \"n_neighbors must be a valid number\"\n",
    "\t\tself.n_neighbors = n_neighbors\n",
    "\t\tself._X_train = None\n",
    "\t\tself._y_train = None\n",
    "\n",
    "\tdef fit(self, X_train, y_train):\n",
    "\t\tassert X_train.shape[0] == y_train.shape[0], \"\"\n",
    "\t\tassert self.n_neighbors <= X_train.shape[0], \"\"\n",
    "\t\tself._y_train = y_train\n",
    "\t\tself._X_train = X_train\n",
    "\t\treturn self\n",
    "\n",
    "\tdef predict(self, X_test):\n",
    "\t\tassert self._X_train is not None and self._y_train is not None, \"\"\n",
    "\t\tassert X_test.shape[1] == self._X_train.shape[1], \"\"\n",
    "\n",
    "\t\ty_predict = [self._predict(x) for x in X_test]\n",
    "\t\treturn np.array(y_predict)\n",
    "\n",
    "\tdef _predict(self, x):\n",
    "\t\tassert x.shape[0] == self._X_train.shape[1], \"\"\n",
    "\t\t# Euclidean Distance metric ==> sqrt(sum((x - y)^2))\n",
    "\t\tdistances = [sqrt(np.sum(item - x) ** 2) for item in self._X_train]\n",
    "\t\tnearest = np.argsort(distances)\n",
    "\t\ttopK_y = [self._y_train[i] for i in nearest[:self.n_neighbors]]\n",
    "\t\tvotes = Counter(topK_y)\n",
    "\t\treturn votes.most_common(1)[0][0]\n",
    "\n",
    "\tdef score(self, X_test, y_test):\n",
    "\t\ty_predict = self.predict(X_test)\n",
    "\t\treturn accuracy_score(y_test, y_predict)\n",
    "\n",
    "\tdef __repr__(self):\n",
    "\t\treturn \"KNN(n_neighbors = %d)\" % self.n_neighbors"
   ]
  },
  {
   "cell_type": "code",
   "execution_count": 4,
   "metadata": {},
   "outputs": [
    {
     "data": {
      "text/plain": [
       "0.68"
      ]
     },
     "execution_count": 4,
     "metadata": {},
     "output_type": "execute_result"
    }
   ],
   "source": [
    "# find the best k based on Aaron KNN algorithm\n",
    "X_row_data, Y_row_data = load_data('./assets/data.csv')\n",
    "\n",
    "split_info_dict = {CLASS0: 70, CLASS1: 140}\n",
    "\n",
    "# Aaron's split method\n",
    "X_train, X_test, y_train, y_test = train_test_by_class_index(X_row_data, Y_row_data, split_info_dict)\n",
    "        \n",
    "knn_clf = KNeighborsClassifier(n_neighbors=4)\n",
    "\n",
    "knn_clf.fit(X_train, y_train)\n",
    "\n",
    "knn_clf.score(X_test, y_test)"
   ]
  }
 ],
 "metadata": {
  "kernelspec": {
   "display_name": "Python 3",
   "language": "python",
   "name": "python3"
  },
  "language_info": {
   "codemirror_mode": {
    "name": "ipython",
    "version": 3
   },
   "file_extension": ".py",
   "mimetype": "text/x-python",
   "name": "python",
   "nbconvert_exporter": "python",
   "pygments_lexer": "ipython3",
   "version": "3.7.3"
  }
 },
 "nbformat": 4,
 "nbformat_minor": 2
}
